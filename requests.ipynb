{
 "cells": [
  {
   "cell_type": "markdown",
   "metadata": {},
   "source": [
    "# Requests\n",
    "\n",
    "Metodologia para realizar consultas a una API, mediante un API Key brindado por el sitio."
   ]
  },
  {
   "cell_type": "code",
   "execution_count": 54,
   "metadata": {},
   "outputs": [],
   "source": [
    "import requests\n",
    "import pandas as pd"
   ]
  },
  {
   "cell_type": "code",
   "execution_count": 66,
   "metadata": {},
   "outputs": [],
   "source": [
    "api_key = 'P5TEaAYbfe07m6VoCDOkTGTVLIx5mdATQIlDatDo'\n",
    "\n",
    "def generate_request(url):\n",
    "    response = requests.get(url)\n",
    "\n",
    "    if response.status_code == 200:\n",
    "        data = response.json()\n",
    "        return data\n",
    "    else:\n",
    "        return 'Error en la solicitud:', response.status_code"
   ]
  },
  {
   "cell_type": "code",
   "execution_count": 100,
   "metadata": {},
   "outputs": [],
   "source": [
    "url = 'http://api.datosabiertos.enacom.gob.ar/api/v2/visualizations/PENET-DE-INTER-FIJO-57760/?auth_key='\n",
    "json_data = generate_request(url+api_key)"
   ]
  },
  {
   "cell_type": "code",
   "execution_count": 102,
   "metadata": {},
   "outputs": [
    {
     "data": {
      "text/html": [
       "<div>\n",
       "<style scoped>\n",
       "    .dataframe tbody tr th:only-of-type {\n",
       "        vertical-align: middle;\n",
       "    }\n",
       "\n",
       "    .dataframe tbody tr th {\n",
       "        vertical-align: top;\n",
       "    }\n",
       "\n",
       "    .dataframe thead th {\n",
       "        text-align: right;\n",
       "    }\n",
       "</style>\n",
       "<table border=\"1\" class=\"dataframe\">\n",
       "  <thead>\n",
       "    <tr style=\"text-align: right;\">\n",
       "      <th></th>\n",
       "      <th>result</th>\n",
       "      <th>status</th>\n",
       "      <th>endpoint</th>\n",
       "      <th>description</th>\n",
       "      <th>parameters</th>\n",
       "      <th>tags</th>\n",
       "      <th>last_revision_id</th>\n",
       "      <th>timestamp</th>\n",
       "      <th>created_at</th>\n",
       "      <th>title</th>\n",
       "      <th>...</th>\n",
       "      <th>category_id</th>\n",
       "      <th>methods</th>\n",
       "      <th>sources</th>\n",
       "      <th>total_revisions</th>\n",
       "      <th>frequency</th>\n",
       "      <th>link</th>\n",
       "      <th>user</th>\n",
       "      <th>status_str</th>\n",
       "      <th>guid</th>\n",
       "      <th>category_name</th>\n",
       "    </tr>\n",
       "  </thead>\n",
       "  <tbody>\n",
       "    <tr>\n",
       "      <th>0</th>\n",
       "      <td>None</td>\n",
       "      <td>3</td>\n",
       "      <td>None</td>\n",
       "      <td>Número de accesos al servicio de Internet fijo...</td>\n",
       "      <td>[]</td>\n",
       "      <td>[internet, banda ancha, penetración]</td>\n",
       "      <td>50976</td>\n",
       "      <td>None</td>\n",
       "      <td>2020-12-22T19:34:37Z</td>\n",
       "      <td>Penetración de Internet fijo (accesos por cada...</td>\n",
       "      <td>...</td>\n",
       "      <td>79257</td>\n",
       "      <td>None</td>\n",
       "      <td>[]</td>\n",
       "      <td>5</td>\n",
       "      <td>None</td>\n",
       "      <td>None</td>\n",
       "      <td>nlastra</td>\n",
       "      <td>None</td>\n",
       "      <td>PENET-DE-INTER-FIJO-57760</td>\n",
       "      <td>Acceso a Internet</td>\n",
       "    </tr>\n",
       "  </tbody>\n",
       "</table>\n",
       "<p>1 rows × 21 columns</p>\n",
       "</div>"
      ],
      "text/plain": [
       "  result  status endpoint                                        description  \\\n",
       "0   None       3     None  Número de accesos al servicio de Internet fijo...   \n",
       "\n",
       "  parameters                                  tags  last_revision_id  \\\n",
       "0         []  [internet, banda ancha, penetración]             50976   \n",
       "\n",
       "  timestamp            created_at  \\\n",
       "0      None  2020-12-22T19:34:37Z   \n",
       "\n",
       "                                               title  ... category_id  \\\n",
       "0  Penetración de Internet fijo (accesos por cada...  ...       79257   \n",
       "\n",
       "   methods sources total_revisions  frequency  link     user status_str  \\\n",
       "0     None      []               5       None  None  nlastra       None   \n",
       "\n",
       "                        guid      category_name  \n",
       "0  PENET-DE-INTER-FIJO-57760  Acceso a Internet  \n",
       "\n",
       "[1 rows x 21 columns]"
      ]
     },
     "execution_count": 102,
     "metadata": {},
     "output_type": "execute_result"
    }
   ],
   "source": [
    "dataframe = pd.json_normalize(json_data)"
   ]
  },
  {
   "cell_type": "markdown",
   "metadata": {},
   "source": [
    "Metodo demostrado pero no utilizado ya que el sitio tenia multiples problemas para realizar la consulta y extraccion de datos requeridos."
   ]
  }
 ],
 "metadata": {
  "kernelspec": {
   "display_name": "Python 3",
   "language": "python",
   "name": "python3"
  },
  "language_info": {
   "codemirror_mode": {
    "name": "ipython",
    "version": 3
   },
   "file_extension": ".py",
   "mimetype": "text/x-python",
   "name": "python",
   "nbconvert_exporter": "python",
   "pygments_lexer": "ipython3",
   "version": "3.10.6"
  },
  "orig_nbformat": 4
 },
 "nbformat": 4,
 "nbformat_minor": 2
}
