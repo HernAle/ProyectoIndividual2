{
 "cells": [
  {
   "cell_type": "markdown",
   "metadata": {},
   "source": [
    "# ETL/EDA de ingresos por servicios"
   ]
  },
  {
   "cell_type": "code",
   "execution_count": 1,
   "metadata": {},
   "outputs": [],
   "source": [
    "#Importar paquetes\n",
    "import pandas as pd\n",
    "import matplotlib.pyplot as plt\n",
    "#Configura la opción de visualización para valores decimales en lugar de notación científica\n",
    "pd.set_option('display.float_format', '{:.2f}'.format)"
   ]
  },
  {
   "cell_type": "markdown",
   "metadata": {},
   "source": [
    "## Datos de ingresos por servicio"
   ]
  },
  {
   "cell_type": "code",
   "execution_count": 34,
   "metadata": {},
   "outputs": [],
   "source": [
    "#Leer los datos de los CSVs de ingresos\n",
    "rev_internet = pd.read_csv('datasets/ingresos/internet.csv', encoding='utf-8')\n",
    "rev_tel = pd.read_csv('datasets/ingresos/telefonia_fija.csv', encoding='utf-8')\n",
    "rev_smart = pd.read_csv('datasets/ingresos/telefonia_movil.csv', encoding='utf-8')"
   ]
  },
  {
   "cell_type": "markdown",
   "metadata": {},
   "source": [
    "### Ingreso servicio de internet por periodo de tiempo\n",
    "\n",
    "`Dataframe: rev_internet`\n",
    "\n",
    "Este dataframe contiene información sobre el ingreso por servicios de internet de los ciudadanos de la Republica Argentina, estimado en miles de pesos durante un periodo de tiempo.\n",
    "\n",
    "Descripcion:\n",
    "- Año: periodo de tiempo donde se evaluan los accesos. \n",
    "- Trimestre: subdivisiones del periodo año.\n",
    "- Ingresos (miles de pesos): cantidad de monto embolsado durante un periodo de tiempo en pesos\n",
    "- Periodo: trimestre detallado por meses y año especifico."
   ]
  },
  {
   "cell_type": "code",
   "execution_count": 35,
   "metadata": {},
   "outputs": [
    {
     "data": {
      "text/plain": [
       "(33, 4)"
      ]
     },
     "execution_count": 35,
     "metadata": {},
     "output_type": "execute_result"
    }
   ],
   "source": [
    "#Tamaño de dataframe\n",
    "rev_internet.shape"
   ]
  },
  {
   "cell_type": "code",
   "execution_count": 36,
   "metadata": {},
   "outputs": [
    {
     "data": {
      "text/html": [
       "<div>\n",
       "<style scoped>\n",
       "    .dataframe tbody tr th:only-of-type {\n",
       "        vertical-align: middle;\n",
       "    }\n",
       "\n",
       "    .dataframe tbody tr th {\n",
       "        vertical-align: top;\n",
       "    }\n",
       "\n",
       "    .dataframe thead th {\n",
       "        text-align: right;\n",
       "    }\n",
       "</style>\n",
       "<table border=\"1\" class=\"dataframe\">\n",
       "  <thead>\n",
       "    <tr style=\"text-align: right;\">\n",
       "      <th></th>\n",
       "      <th>Año</th>\n",
       "      <th>Trimestre</th>\n",
       "      <th>Ingresos (miles de pesos)</th>\n",
       "      <th>Periodo</th>\n",
       "    </tr>\n",
       "  </thead>\n",
       "  <tbody>\n",
       "    <tr>\n",
       "      <th>0</th>\n",
       "      <td>2022</td>\n",
       "      <td>1</td>\n",
       "      <td>51.432.896</td>\n",
       "      <td>Ene-Mar 2022</td>\n",
       "    </tr>\n",
       "    <tr>\n",
       "      <th>1</th>\n",
       "      <td>2021</td>\n",
       "      <td>4</td>\n",
       "      <td>45.467.887</td>\n",
       "      <td>Oct-Dic 2021</td>\n",
       "    </tr>\n",
       "    <tr>\n",
       "      <th>2</th>\n",
       "      <td>2021</td>\n",
       "      <td>3</td>\n",
       "      <td>42.999.944</td>\n",
       "      <td>Jul-Sept 2021</td>\n",
       "    </tr>\n",
       "  </tbody>\n",
       "</table>\n",
       "</div>"
      ],
      "text/plain": [
       "    Año  Trimestre Ingresos (miles de pesos)        Periodo\n",
       "0  2022          1                51.432.896   Ene-Mar 2022\n",
       "1  2021          4                45.467.887   Oct-Dic 2021\n",
       "2  2021          3                42.999.944  Jul-Sept 2021"
      ]
     },
     "execution_count": 36,
     "metadata": {},
     "output_type": "execute_result"
    }
   ],
   "source": [
    "#Resumen de primeros datos\n",
    "rev_internet.head(3)"
   ]
  },
  {
   "cell_type": "code",
   "execution_count": 37,
   "metadata": {},
   "outputs": [],
   "source": [
    "#Reemplazar '.' con ''\n",
    "rev_internet['Ingresos (miles de pesos)'] = rev_internet['Ingresos (miles de pesos)'].str.replace('.','')"
   ]
  },
  {
   "cell_type": "code",
   "execution_count": 38,
   "metadata": {},
   "outputs": [
    {
     "name": "stdout",
     "output_type": "stream",
     "text": [
      "Año                          0\n",
      "Trimestre                    0\n",
      "Ingresos (miles de pesos)    0\n",
      "Periodo                      0\n",
      "dtype: int64\n",
      "Año                           int64\n",
      "Trimestre                     int64\n",
      "Ingresos (miles de pesos)    object\n",
      "Periodo                      object\n",
      "dtype: object\n"
     ]
    }
   ],
   "source": [
    "#Valores nulos y el tipo de datos de las series\n",
    "print(rev_internet.isnull().sum())\n",
    "print(rev_internet.dtypes)"
   ]
  },
  {
   "cell_type": "code",
   "execution_count": 39,
   "metadata": {},
   "outputs": [],
   "source": [
    "#Transformar str a float\n",
    "rev_internet['Ingresos (miles de pesos)'] = rev_internet['Ingresos (miles de pesos)'].astype(float)"
   ]
  },
  {
   "cell_type": "code",
   "execution_count": 40,
   "metadata": {},
   "outputs": [],
   "source": [
    "#Eliminar columnas innecesarias\n",
    "rev_internet = rev_internet.drop(['Trimestre','Periodo'], axis=1)"
   ]
  },
  {
   "cell_type": "code",
   "execution_count": 41,
   "metadata": {},
   "outputs": [],
   "source": [
    "#Agrupar datos por año promediando trimestres\n",
    "rev_internet = rev_internet.groupby('Año').mean().reset_index()"
   ]
  },
  {
   "cell_type": "code",
   "execution_count": 42,
   "metadata": {},
   "outputs": [
    {
     "data": {
      "text/html": [
       "<div>\n",
       "<style scoped>\n",
       "    .dataframe tbody tr th:only-of-type {\n",
       "        vertical-align: middle;\n",
       "    }\n",
       "\n",
       "    .dataframe tbody tr th {\n",
       "        vertical-align: top;\n",
       "    }\n",
       "\n",
       "    .dataframe thead th {\n",
       "        text-align: right;\n",
       "    }\n",
       "</style>\n",
       "<table border=\"1\" class=\"dataframe\">\n",
       "  <thead>\n",
       "    <tr style=\"text-align: right;\">\n",
       "      <th></th>\n",
       "      <th>Año</th>\n",
       "      <th>Ingresos (miles de pesos)</th>\n",
       "    </tr>\n",
       "  </thead>\n",
       "  <tbody>\n",
       "    <tr>\n",
       "      <th>count</th>\n",
       "      <td>9.000000</td>\n",
       "      <td>9.000000e+00</td>\n",
       "    </tr>\n",
       "    <tr>\n",
       "      <th>mean</th>\n",
       "      <td>2018.000000</td>\n",
       "      <td>2.064849e+07</td>\n",
       "    </tr>\n",
       "    <tr>\n",
       "      <th>std</th>\n",
       "      <td>2.738613</td>\n",
       "      <td>1.719916e+07</td>\n",
       "    </tr>\n",
       "    <tr>\n",
       "      <th>min</th>\n",
       "      <td>2014.000000</td>\n",
       "      <td>3.420987e+06</td>\n",
       "    </tr>\n",
       "    <tr>\n",
       "      <th>25%</th>\n",
       "      <td>2016.000000</td>\n",
       "      <td>6.716877e+06</td>\n",
       "    </tr>\n",
       "    <tr>\n",
       "      <th>50%</th>\n",
       "      <td>2018.000000</td>\n",
       "      <td>1.488490e+07</td>\n",
       "    </tr>\n",
       "    <tr>\n",
       "      <th>75%</th>\n",
       "      <td>2020.000000</td>\n",
       "      <td>3.189646e+07</td>\n",
       "    </tr>\n",
       "    <tr>\n",
       "      <th>max</th>\n",
       "      <td>2022.000000</td>\n",
       "      <td>5.143290e+07</td>\n",
       "    </tr>\n",
       "  </tbody>\n",
       "</table>\n",
       "</div>"
      ],
      "text/plain": [
       "               Año  Ingresos (miles de pesos)\n",
       "count     9.000000               9.000000e+00\n",
       "mean   2018.000000               2.064849e+07\n",
       "std       2.738613               1.719916e+07\n",
       "min    2014.000000               3.420987e+06\n",
       "25%    2016.000000               6.716877e+06\n",
       "50%    2018.000000               1.488490e+07\n",
       "75%    2020.000000               3.189646e+07\n",
       "max    2022.000000               5.143290e+07"
      ]
     },
     "execution_count": 42,
     "metadata": {},
     "output_type": "execute_result"
    }
   ],
   "source": [
    "rev_internet.describe()"
   ]
  },
  {
   "cell_type": "markdown",
   "metadata": {},
   "source": [
    "### Ingreso servicio de telefonia fija por periodo de tiempo\n",
    "\n",
    "`Dataframe: rev_tel`\n",
    "\n",
    "Este dataframe contiene información sobre el ingreso por servicios de telefonia fija de los ciudadanos de la Republica Argentina, estimado en miles de pesos durante un periodo de tiempo.\n",
    "\n",
    "Descripcion:\n",
    "- Año: periodo de tiempo donde se evaluan los accesos. \n",
    "- Trimestre: subdivisiones del periodo año.\n",
    "- Ingresos (miles de $): cantidad de monto embolsado durante un periodo de tiempo en pesos."
   ]
  },
  {
   "cell_type": "code",
   "execution_count": 44,
   "metadata": {},
   "outputs": [
    {
     "data": {
      "text/plain": [
       "(33, 3)"
      ]
     },
     "execution_count": 44,
     "metadata": {},
     "output_type": "execute_result"
    }
   ],
   "source": [
    "#Tamaño de dataframe\n",
    "rev_tel.shape"
   ]
  },
  {
   "cell_type": "code",
   "execution_count": 46,
   "metadata": {},
   "outputs": [
    {
     "data": {
      "text/html": [
       "<div>\n",
       "<style scoped>\n",
       "    .dataframe tbody tr th:only-of-type {\n",
       "        vertical-align: middle;\n",
       "    }\n",
       "\n",
       "    .dataframe tbody tr th {\n",
       "        vertical-align: top;\n",
       "    }\n",
       "\n",
       "    .dataframe thead th {\n",
       "        text-align: right;\n",
       "    }\n",
       "</style>\n",
       "<table border=\"1\" class=\"dataframe\">\n",
       "  <thead>\n",
       "    <tr style=\"text-align: right;\">\n",
       "      <th></th>\n",
       "      <th>Año</th>\n",
       "      <th>Trimestre</th>\n",
       "      <th>Ingresos (miles de $)</th>\n",
       "    </tr>\n",
       "  </thead>\n",
       "  <tbody>\n",
       "    <tr>\n",
       "      <th>0</th>\n",
       "      <td>2014</td>\n",
       "      <td>1</td>\n",
       "      <td>2.916.071,75</td>\n",
       "    </tr>\n",
       "    <tr>\n",
       "      <th>1</th>\n",
       "      <td>2014</td>\n",
       "      <td>2</td>\n",
       "      <td>2.974.865,2</td>\n",
       "    </tr>\n",
       "    <tr>\n",
       "      <th>2</th>\n",
       "      <td>2014</td>\n",
       "      <td>3</td>\n",
       "      <td>3.105.462,02</td>\n",
       "    </tr>\n",
       "  </tbody>\n",
       "</table>\n",
       "</div>"
      ],
      "text/plain": [
       "    Año  Trimestre Ingresos (miles de $)\n",
       "0  2014          1          2.916.071,75\n",
       "1  2014          2           2.974.865,2\n",
       "2  2014          3          3.105.462,02"
      ]
     },
     "execution_count": 46,
     "metadata": {},
     "output_type": "execute_result"
    }
   ],
   "source": [
    "#Resumen de primeros datos\n",
    "rev_tel.head(3)"
   ]
  },
  {
   "cell_type": "code",
   "execution_count": 49,
   "metadata": {},
   "outputs": [],
   "source": [
    "#Reemplazar '.' con '' y ',' con '.'\n",
    "rev_tel['Ingresos (miles de $)'] = rev_tel['Ingresos (miles de $)'].str.replace('.','')\n",
    "rev_tel['Ingresos (miles de $)'] = rev_tel['Ingresos (miles de $)'].str.replace(',','.')"
   ]
  },
  {
   "cell_type": "code",
   "execution_count": 52,
   "metadata": {},
   "outputs": [
    {
     "name": "stdout",
     "output_type": "stream",
     "text": [
      "Año                      0\n",
      "Trimestre                0\n",
      "Ingresos (miles de $)    0\n",
      "dtype: int64\n",
      "Año                       int64\n",
      "Trimestre                 int64\n",
      "Ingresos (miles de $)    object\n",
      "dtype: object\n"
     ]
    }
   ],
   "source": [
    "#Valores nulos y el tipo de datos de las series\n",
    "print(rev_tel.isnull().sum())\n",
    "print(rev_tel.dtypes)"
   ]
  },
  {
   "cell_type": "code",
   "execution_count": 53,
   "metadata": {},
   "outputs": [],
   "source": [
    "#Transformar str a float\n",
    "rev_tel['Ingresos (miles de $)'] = rev_tel['Ingresos (miles de $)'].astype(float)"
   ]
  },
  {
   "cell_type": "code",
   "execution_count": 54,
   "metadata": {},
   "outputs": [],
   "source": [
    "#Eliminar columnas innecesarias\n",
    "rev_tel = rev_tel.drop(['Trimestre'], axis=1)"
   ]
  },
  {
   "cell_type": "code",
   "execution_count": 55,
   "metadata": {},
   "outputs": [],
   "source": [
    "#Agrupar datos por año promediando trimestres\n",
    "rev_tel = rev_tel.groupby('Año').mean().reset_index()"
   ]
  },
  {
   "cell_type": "code",
   "execution_count": 56,
   "metadata": {},
   "outputs": [
    {
     "data": {
      "text/html": [
       "<div>\n",
       "<style scoped>\n",
       "    .dataframe tbody tr th:only-of-type {\n",
       "        vertical-align: middle;\n",
       "    }\n",
       "\n",
       "    .dataframe tbody tr th {\n",
       "        vertical-align: top;\n",
       "    }\n",
       "\n",
       "    .dataframe thead th {\n",
       "        text-align: right;\n",
       "    }\n",
       "</style>\n",
       "<table border=\"1\" class=\"dataframe\">\n",
       "  <thead>\n",
       "    <tr style=\"text-align: right;\">\n",
       "      <th></th>\n",
       "      <th>Año</th>\n",
       "      <th>Ingresos (miles de $)</th>\n",
       "    </tr>\n",
       "  </thead>\n",
       "  <tbody>\n",
       "    <tr>\n",
       "      <th>count</th>\n",
       "      <td>9.000000</td>\n",
       "      <td>9.000000e+00</td>\n",
       "    </tr>\n",
       "    <tr>\n",
       "      <th>mean</th>\n",
       "      <td>2018.000000</td>\n",
       "      <td>1.240866e+07</td>\n",
       "    </tr>\n",
       "    <tr>\n",
       "      <th>std</th>\n",
       "      <td>2.738613</td>\n",
       "      <td>9.163130e+06</td>\n",
       "    </tr>\n",
       "    <tr>\n",
       "      <th>min</th>\n",
       "      <td>2014.000000</td>\n",
       "      <td>3.084022e+06</td>\n",
       "    </tr>\n",
       "    <tr>\n",
       "      <th>25%</th>\n",
       "      <td>2016.000000</td>\n",
       "      <td>4.708399e+06</td>\n",
       "    </tr>\n",
       "    <tr>\n",
       "      <th>50%</th>\n",
       "      <td>2018.000000</td>\n",
       "      <td>8.818128e+06</td>\n",
       "    </tr>\n",
       "    <tr>\n",
       "      <th>75%</th>\n",
       "      <td>2020.000000</td>\n",
       "      <td>1.900386e+07</td>\n",
       "    </tr>\n",
       "    <tr>\n",
       "      <th>max</th>\n",
       "      <td>2022.000000</td>\n",
       "      <td>2.624087e+07</td>\n",
       "    </tr>\n",
       "  </tbody>\n",
       "</table>\n",
       "</div>"
      ],
      "text/plain": [
       "               Año  Ingresos (miles de $)\n",
       "count     9.000000           9.000000e+00\n",
       "mean   2018.000000           1.240866e+07\n",
       "std       2.738613           9.163130e+06\n",
       "min    2014.000000           3.084022e+06\n",
       "25%    2016.000000           4.708399e+06\n",
       "50%    2018.000000           8.818128e+06\n",
       "75%    2020.000000           1.900386e+07\n",
       "max    2022.000000           2.624087e+07"
      ]
     },
     "execution_count": 56,
     "metadata": {},
     "output_type": "execute_result"
    }
   ],
   "source": [
    "rev_tel.describe()"
   ]
  },
  {
   "cell_type": "markdown",
   "metadata": {},
   "source": [
    "### Ingreso servicio de telefonia movil por periodo de tiempo\n",
    "\n",
    "`Dataframe: rev_smart`\n",
    "\n",
    "Este dataframe contiene información sobre el ingreso por servicios de telefonia movil de los ciudadanos de la Republica Argentina, estimado en miles de pesos durante un periodo de tiempo.\n",
    "\n",
    "Descripcion:\n",
    "- Año: periodo de tiempo donde se evaluan los accesos. \n",
    "- Trimestre: subdivisiones del periodo año.\n",
    "- Ingresos (miles de $): cantidad de monto embolsado durante un periodo de tiempo en pesos\n",
    "- Periodo: trimestre detallado por meses y año especifico."
   ]
  },
  {
   "cell_type": "code",
   "execution_count": 57,
   "metadata": {},
   "outputs": [
    {
     "data": {
      "text/plain": [
       "(33, 4)"
      ]
     },
     "execution_count": 57,
     "metadata": {},
     "output_type": "execute_result"
    }
   ],
   "source": [
    "#Tamaño de dataframe\n",
    "rev_smart.shape"
   ]
  },
  {
   "cell_type": "code",
   "execution_count": 58,
   "metadata": {},
   "outputs": [
    {
     "data": {
      "text/html": [
       "<div>\n",
       "<style scoped>\n",
       "    .dataframe tbody tr th:only-of-type {\n",
       "        vertical-align: middle;\n",
       "    }\n",
       "\n",
       "    .dataframe tbody tr th {\n",
       "        vertical-align: top;\n",
       "    }\n",
       "\n",
       "    .dataframe thead th {\n",
       "        text-align: right;\n",
       "    }\n",
       "</style>\n",
       "<table border=\"1\" class=\"dataframe\">\n",
       "  <thead>\n",
       "    <tr style=\"text-align: right;\">\n",
       "      <th></th>\n",
       "      <th>Año</th>\n",
       "      <th>Trimestre</th>\n",
       "      <th>Ingresos (miles de $)</th>\n",
       "      <th>Periodo</th>\n",
       "    </tr>\n",
       "  </thead>\n",
       "  <tbody>\n",
       "    <tr>\n",
       "      <th>0</th>\n",
       "      <td>2014</td>\n",
       "      <td>1</td>\n",
       "      <td>$ 15.938.353</td>\n",
       "      <td>Ene-Mar 2013</td>\n",
       "    </tr>\n",
       "    <tr>\n",
       "      <th>1</th>\n",
       "      <td>2014</td>\n",
       "      <td>2</td>\n",
       "      <td>$ 17.680.972</td>\n",
       "      <td>Abr-Jun 2014</td>\n",
       "    </tr>\n",
       "    <tr>\n",
       "      <th>2</th>\n",
       "      <td>2014</td>\n",
       "      <td>3</td>\n",
       "      <td>$ 18.976.053</td>\n",
       "      <td>Jul-Sept 2014</td>\n",
       "    </tr>\n",
       "  </tbody>\n",
       "</table>\n",
       "</div>"
      ],
      "text/plain": [
       "    Año  Trimestre Ingresos (miles de $)        Periodo\n",
       "0  2014          1          $ 15.938.353   Ene-Mar 2013\n",
       "1  2014          2          $ 17.680.972   Abr-Jun 2014\n",
       "2  2014          3          $ 18.976.053  Jul-Sept 2014"
      ]
     },
     "execution_count": 58,
     "metadata": {},
     "output_type": "execute_result"
    }
   ],
   "source": [
    "#Resumen de primeros datos\n",
    "rev_smart.head(3)"
   ]
  },
  {
   "cell_type": "code",
   "execution_count": 59,
   "metadata": {},
   "outputs": [],
   "source": [
    "#Reemplazar '$ ' con '' y '.' con ''\n",
    "rev_smart['Ingresos (miles de $)'] = rev_smart['Ingresos (miles de $)'].str.replace('$ ','')\n",
    "rev_smart['Ingresos (miles de $)'] = rev_smart['Ingresos (miles de $)'].str.replace('.','')"
   ]
  },
  {
   "cell_type": "code",
   "execution_count": 61,
   "metadata": {},
   "outputs": [
    {
     "name": "stdout",
     "output_type": "stream",
     "text": [
      "Año                      0\n",
      "Trimestre                0\n",
      "Ingresos (miles de $)    0\n",
      "Periodo                  0\n",
      "dtype: int64\n",
      "Año                       int64\n",
      "Trimestre                 int64\n",
      "Ingresos (miles de $)    object\n",
      "Periodo                  object\n",
      "dtype: object\n"
     ]
    }
   ],
   "source": [
    "#Valores nulos y el tipo de datos de las series\n",
    "print(rev_smart.isnull().sum())\n",
    "print(rev_smart.dtypes)"
   ]
  },
  {
   "cell_type": "code",
   "execution_count": 62,
   "metadata": {},
   "outputs": [],
   "source": [
    "#Transformar str a float\n",
    "rev_smart['Ingresos (miles de $)'] = rev_smart['Ingresos (miles de $)'].astype(float)"
   ]
  },
  {
   "cell_type": "code",
   "execution_count": 63,
   "metadata": {},
   "outputs": [],
   "source": [
    "#Eliminar columnas innecesarias\n",
    "rev_smart = rev_smart.drop(['Trimestre','Periodo'], axis=1)"
   ]
  },
  {
   "cell_type": "code",
   "execution_count": 64,
   "metadata": {},
   "outputs": [],
   "source": [
    "#Agrupar datos por año promediando trimestres\n",
    "rev_smart = rev_smart.groupby('Año').mean().reset_index()"
   ]
  },
  {
   "cell_type": "code",
   "execution_count": 65,
   "metadata": {},
   "outputs": [
    {
     "data": {
      "text/html": [
       "<div>\n",
       "<style scoped>\n",
       "    .dataframe tbody tr th:only-of-type {\n",
       "        vertical-align: middle;\n",
       "    }\n",
       "\n",
       "    .dataframe tbody tr th {\n",
       "        vertical-align: top;\n",
       "    }\n",
       "\n",
       "    .dataframe thead th {\n",
       "        text-align: right;\n",
       "    }\n",
       "</style>\n",
       "<table border=\"1\" class=\"dataframe\">\n",
       "  <thead>\n",
       "    <tr style=\"text-align: right;\">\n",
       "      <th></th>\n",
       "      <th>Año</th>\n",
       "      <th>Ingresos (miles de $)</th>\n",
       "    </tr>\n",
       "  </thead>\n",
       "  <tbody>\n",
       "    <tr>\n",
       "      <th>count</th>\n",
       "      <td>9.000000</td>\n",
       "      <td>9.000000e+00</td>\n",
       "    </tr>\n",
       "    <tr>\n",
       "      <th>mean</th>\n",
       "      <td>2018.000000</td>\n",
       "      <td>5.769250e+07</td>\n",
       "    </tr>\n",
       "    <tr>\n",
       "      <th>std</th>\n",
       "      <td>2.738613</td>\n",
       "      <td>4.046585e+07</td>\n",
       "    </tr>\n",
       "    <tr>\n",
       "      <th>min</th>\n",
       "      <td>2014.000000</td>\n",
       "      <td>1.815193e+07</td>\n",
       "    </tr>\n",
       "    <tr>\n",
       "      <th>25%</th>\n",
       "      <td>2016.000000</td>\n",
       "      <td>2.691911e+07</td>\n",
       "    </tr>\n",
       "    <tr>\n",
       "      <th>50%</th>\n",
       "      <td>2018.000000</td>\n",
       "      <td>4.167358e+07</td>\n",
       "    </tr>\n",
       "    <tr>\n",
       "      <th>75%</th>\n",
       "      <td>2020.000000</td>\n",
       "      <td>7.718249e+07</td>\n",
       "    </tr>\n",
       "    <tr>\n",
       "      <th>max</th>\n",
       "      <td>2022.000000</td>\n",
       "      <td>1.304547e+08</td>\n",
       "    </tr>\n",
       "  </tbody>\n",
       "</table>\n",
       "</div>"
      ],
      "text/plain": [
       "               Año  Ingresos (miles de $)\n",
       "count     9.000000           9.000000e+00\n",
       "mean   2018.000000           5.769250e+07\n",
       "std       2.738613           4.046585e+07\n",
       "min    2014.000000           1.815193e+07\n",
       "25%    2016.000000           2.691911e+07\n",
       "50%    2018.000000           4.167358e+07\n",
       "75%    2020.000000           7.718249e+07\n",
       "max    2022.000000           1.304547e+08"
      ]
     },
     "execution_count": 65,
     "metadata": {},
     "output_type": "execute_result"
    }
   ],
   "source": [
    "rev_smart.describe()"
   ]
  },
  {
   "cell_type": "code",
   "execution_count": 67,
   "metadata": {},
   "outputs": [
    {
     "data": {
      "image/png": "[encoded data removed]",
      "text/plain": [
       "<Figure size 640x480 with 1 Axes>"
      ]
     },
     "metadata": {},
     "output_type": "display_data"
    }
   ],
   "source": [
    "#Creacion del gráfico de líneas\n",
    "plt.plot(rev_internet['Año'], rev_internet['Ingresos (miles de pesos)'], marker='o', linestyle='-', label='Internet')\n",
    "plt.plot(rev_tel['Año'], rev_tel['Ingresos (miles de $)'], marker='o', linestyle='-', label='Telefonia fija')\n",
    "plt.plot(rev_smart['Año'], rev_smart['Ingresos (miles de $)'], marker='o', linestyle='-',label='Telefonia movil')\n",
    "plt.xlabel('Año')\n",
    "plt.ylabel('Servicio')\n",
    "plt.title('Ingresos por tipo de servicio por año')\n",
    "plt.legend()\n",
    "plt.show()"
   ]
  },
  {
   "cell_type": "markdown",
   "metadata": {},
   "source": [
    "\n",
    "#### Conclusion sobre ingresos por tipo de servicio en los ultimos años\n",
    "\n",
    "`Grafico de lines sugiere una creciemiento abrupto de la telefonia movil`\n",
    "\n",
    "- Comportamiento de consumo: el incremento en los ingresos de los servicios de telefonia movil podria ser resultado del aumento en el número de suscriptores de telefonia movil, asi tambien de la demanda de servicios adicionales, como planes de datos, servicios de mensajeria y aplicaciones moviles.\n",
    "\n",
    "- Crecimiento moderado del servicio de internet: esto puede ser resultado de diferentes factores, como barreras de acceso a internet, infraestructura limitada o falta de conciencia y adopcion generalizada de servicios de internet. Los equipos de telefonia movil tienen mayor cantidad de micropagados incluidos dentro del uso cotidiano.\n",
    "\n",
    "- Disminución en el servicio de telefonia fija: es posible que haya una mayor adopcion de servicios de comunicacion mediante aplicaciones o servicios de mensajeria, que están reemplazando gradualmente el uso de llamadas telefónicas tradicionales. Brindan un menor costo y mayor libertad de tiempo de uso.\n",
    "\n",
    "- Cambio en la industria de las telecomunicaciones: los proveedores de servicios estan ajustando sus estrategias, como centrarse más en servicios de datos moviles y en la mejora de la infraestructura de internet. Que como hemos visto son los sectores de mayor crecimiento economico y infinitas posibilidades de negocio."
   ]
  }
 ],
 "metadata": {
  "kernelspec": {
   "display_name": "Python 3",
   "language": "python",
   "name": "python3"
  },
  "language_info": {
   "codemirror_mode": {
    "name": "ipython",
    "version": 3
   },
   "file_extension": ".py",
   "mimetype": "text/x-python",
   "name": "python",
   "nbconvert_exporter": "python",
   "pygments_lexer": "ipython3",
   "version": "3.10.6"
  },
  "orig_nbformat": 4
 },
 "nbformat": 4,
 "nbformat_minor": 2
}
